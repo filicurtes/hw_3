{
  "nbformat": 4,
  "nbformat_minor": 0,
  "metadata": {
    "colab": {
      "name": "hw_3.ipynb",
      "provenance": [],
      "authorship_tag": "ABX9TyO7sal5iJ4ZfrACXwKFctMe",
      "include_colab_link": true
    },
    "kernelspec": {
      "name": "python3",
      "display_name": "Python 3"
    },
    "accelerator": "GPU",
    "widgets": {
      "application/vnd.jupyter.widget-state+json": {
        "026ed818fe754255b5d706d72cffcb60": {
          "model_module": "@jupyter-widgets/controls",
          "model_name": "HBoxModel",
          "state": {
            "_view_name": "HBoxView",
            "_dom_classes": [],
            "_model_name": "HBoxModel",
            "_view_module": "@jupyter-widgets/controls",
            "_model_module_version": "1.5.0",
            "_view_count": null,
            "_view_module_version": "1.5.0",
            "box_style": "",
            "layout": "IPY_MODEL_3e2e9908673344fe803c08ab5999dcbc",
            "_model_module": "@jupyter-widgets/controls",
            "children": [
              "IPY_MODEL_63c4366a77314dccb5ce95ef6131d806",
              "IPY_MODEL_16c7f9156a1b46f7a573f5c79c2b2f84"
            ]
          }
        },
        "3e2e9908673344fe803c08ab5999dcbc": {
          "model_module": "@jupyter-widgets/base",
          "model_name": "LayoutModel",
          "state": {
            "_view_name": "LayoutView",
            "grid_template_rows": null,
            "right": null,
            "justify_content": null,
            "_view_module": "@jupyter-widgets/base",
            "overflow": null,
            "_model_module_version": "1.2.0",
            "_view_count": null,
            "flex_flow": null,
            "width": null,
            "min_width": null,
            "border": null,
            "align_items": null,
            "bottom": null,
            "_model_module": "@jupyter-widgets/base",
            "top": null,
            "grid_column": null,
            "overflow_y": null,
            "overflow_x": null,
            "grid_auto_flow": null,
            "grid_area": null,
            "grid_template_columns": null,
            "flex": null,
            "_model_name": "LayoutModel",
            "justify_items": null,
            "grid_row": null,
            "max_height": null,
            "align_content": null,
            "visibility": null,
            "align_self": null,
            "height": null,
            "min_height": null,
            "padding": null,
            "grid_auto_rows": null,
            "grid_gap": null,
            "max_width": null,
            "order": null,
            "_view_module_version": "1.2.0",
            "grid_template_areas": null,
            "object_position": null,
            "object_fit": null,
            "grid_auto_columns": null,
            "margin": null,
            "display": null,
            "left": null
          }
        },
        "63c4366a77314dccb5ce95ef6131d806": {
          "model_module": "@jupyter-widgets/controls",
          "model_name": "FloatProgressModel",
          "state": {
            "_view_name": "ProgressView",
            "style": "IPY_MODEL_185e493b93c34aaf809e59c1c5c155e6",
            "_dom_classes": [],
            "description": "100%",
            "_model_name": "FloatProgressModel",
            "bar_style": "success",
            "max": 244418560,
            "_view_module": "@jupyter-widgets/controls",
            "_model_module_version": "1.5.0",
            "value": 244418560,
            "_view_count": null,
            "_view_module_version": "1.5.0",
            "orientation": "horizontal",
            "min": 0,
            "description_tooltip": null,
            "_model_module": "@jupyter-widgets/controls",
            "layout": "IPY_MODEL_e54dafc8b27143bcb036e4448ffd3cc3"
          }
        },
        "16c7f9156a1b46f7a573f5c79c2b2f84": {
          "model_module": "@jupyter-widgets/controls",
          "model_name": "HTMLModel",
          "state": {
            "_view_name": "HTMLView",
            "style": "IPY_MODEL_a110eadc478644bf83960b4799d86b22",
            "_dom_classes": [],
            "description": "",
            "_model_name": "HTMLModel",
            "placeholder": "​",
            "_view_module": "@jupyter-widgets/controls",
            "_model_module_version": "1.5.0",
            "value": " 233M/233M [03:09&lt;00:00, 1.29MB/s]",
            "_view_count": null,
            "_view_module_version": "1.5.0",
            "description_tooltip": null,
            "_model_module": "@jupyter-widgets/controls",
            "layout": "IPY_MODEL_6b43260ca9ab40c392250debabff7ac8"
          }
        },
        "185e493b93c34aaf809e59c1c5c155e6": {
          "model_module": "@jupyter-widgets/controls",
          "model_name": "ProgressStyleModel",
          "state": {
            "_view_name": "StyleView",
            "_model_name": "ProgressStyleModel",
            "description_width": "initial",
            "_view_module": "@jupyter-widgets/base",
            "_model_module_version": "1.5.0",
            "_view_count": null,
            "_view_module_version": "1.2.0",
            "bar_color": null,
            "_model_module": "@jupyter-widgets/controls"
          }
        },
        "e54dafc8b27143bcb036e4448ffd3cc3": {
          "model_module": "@jupyter-widgets/base",
          "model_name": "LayoutModel",
          "state": {
            "_view_name": "LayoutView",
            "grid_template_rows": null,
            "right": null,
            "justify_content": null,
            "_view_module": "@jupyter-widgets/base",
            "overflow": null,
            "_model_module_version": "1.2.0",
            "_view_count": null,
            "flex_flow": null,
            "width": null,
            "min_width": null,
            "border": null,
            "align_items": null,
            "bottom": null,
            "_model_module": "@jupyter-widgets/base",
            "top": null,
            "grid_column": null,
            "overflow_y": null,
            "overflow_x": null,
            "grid_auto_flow": null,
            "grid_area": null,
            "grid_template_columns": null,
            "flex": null,
            "_model_name": "LayoutModel",
            "justify_items": null,
            "grid_row": null,
            "max_height": null,
            "align_content": null,
            "visibility": null,
            "align_self": null,
            "height": null,
            "min_height": null,
            "padding": null,
            "grid_auto_rows": null,
            "grid_gap": null,
            "max_width": null,
            "order": null,
            "_view_module_version": "1.2.0",
            "grid_template_areas": null,
            "object_position": null,
            "object_fit": null,
            "grid_auto_columns": null,
            "margin": null,
            "display": null,
            "left": null
          }
        },
        "a110eadc478644bf83960b4799d86b22": {
          "model_module": "@jupyter-widgets/controls",
          "model_name": "DescriptionStyleModel",
          "state": {
            "_view_name": "StyleView",
            "_model_name": "DescriptionStyleModel",
            "description_width": "",
            "_view_module": "@jupyter-widgets/base",
            "_model_module_version": "1.5.0",
            "_view_count": null,
            "_view_module_version": "1.2.0",
            "_model_module": "@jupyter-widgets/controls"
          }
        },
        "6b43260ca9ab40c392250debabff7ac8": {
          "model_module": "@jupyter-widgets/base",
          "model_name": "LayoutModel",
          "state": {
            "_view_name": "LayoutView",
            "grid_template_rows": null,
            "right": null,
            "justify_content": null,
            "_view_module": "@jupyter-widgets/base",
            "overflow": null,
            "_model_module_version": "1.2.0",
            "_view_count": null,
            "flex_flow": null,
            "width": null,
            "min_width": null,
            "border": null,
            "align_items": null,
            "bottom": null,
            "_model_module": "@jupyter-widgets/base",
            "top": null,
            "grid_column": null,
            "overflow_y": null,
            "overflow_x": null,
            "grid_auto_flow": null,
            "grid_area": null,
            "grid_template_columns": null,
            "flex": null,
            "_model_name": "LayoutModel",
            "justify_items": null,
            "grid_row": null,
            "max_height": null,
            "align_content": null,
            "visibility": null,
            "align_self": null,
            "height": null,
            "min_height": null,
            "padding": null,
            "grid_auto_rows": null,
            "grid_gap": null,
            "max_width": null,
            "order": null,
            "_view_module_version": "1.2.0",
            "grid_template_areas": null,
            "object_position": null,
            "object_fit": null,
            "grid_auto_columns": null,
            "margin": null,
            "display": null,
            "left": null
          }
        }
      }
    }
  },
  "cells": [
    {
      "cell_type": "markdown",
      "metadata": {
        "id": "view-in-github",
        "colab_type": "text"
      },
      "source": [
        "<a href=\"https://colab.research.google.com/github/filicurtes/hw_3/blob/master/hw_3.ipynb\" target=\"_parent\"><img src=\"https://colab.research.google.com/assets/colab-badge.svg\" alt=\"Open In Colab\"/></a>"
      ]
    },
    {
      "cell_type": "code",
      "metadata": {
        "id": "k9O3aM3Tb28q",
        "colab_type": "code",
        "colab": {}
      },
      "source": [
        "#!pip3 install 'torch==1.4.0'\n",
        "#!pip3 install 'torchvision==0.5.0'\n",
        "#!pip3 install 'Pillow-SIMD'\n",
        "#!pip3 install 'tqdm'\n",
        "#!pip install imutils"
      ],
      "execution_count": 0,
      "outputs": []
    },
    {
      "cell_type": "code",
      "metadata": {
        "id": "X63WTCEnd2EZ",
        "colab_type": "code",
        "outputId": "a65f9e8c-9a62-4946-a134-84f4909c4a44",
        "colab": {
          "base_uri": "https://localhost:8080/",
          "height": 156
        }
      },
      "source": [
        "!rm -rf \"hw_3\"\n",
        "import os \n",
        "if not os.path.isdir('./hw_3'):\n",
        "  !git clone https://github.com/filicurtes/hw_3.git\n",
        "cwd=os.getcwd()\n",
        "os.chdir('./hw_3')\n",
        "os.mkdir('results')\n",
        "os.chdir(cwd)"
      ],
      "execution_count": 6,
      "outputs": [
        {
          "output_type": "stream",
          "text": [
            "Cloning into 'hw_3'...\n",
            "remote: Enumerating objects: 12, done.\u001b[K\n",
            "remote: Counting objects: 100% (12/12), done.\u001b[K\n",
            "remote: Compressing objects: 100% (12/12), done.\u001b[K\n",
            "remote: Total 10054 (delta 4), reused 0 (delta 0), pack-reused 10042\u001b[K\n",
            "Receiving objects: 100% (10054/10054), 174.14 MiB | 34.75 MiB/s, done.\n",
            "Resolving deltas: 100% (9/9), done.\n",
            "Checking out files: 100% (10003/10003), done.\n"
          ],
          "name": "stdout"
        }
      ]
    },
    {
      "cell_type": "code",
      "metadata": {
        "id": "T6AU6DkTyaoV",
        "colab_type": "code",
        "outputId": "b6d87c1d-9c70-4508-d101-37c0596f50a8",
        "colab": {
          "base_uri": "https://localhost:8080/",
          "height": 34
        }
      },
      "source": [
        "import torch\n",
        "import torchvision\n",
        "import torch.nn as nn\n",
        "import torch.optim as optim\n",
        "from torch.backends import cudnn\n",
        "from hw_3.code.alexnet_dann import alexnet\n",
        "from torchvision.datasets import ImageFolder\n",
        "\n",
        "print(torch.__version__)\n",
        "\n",
        "from torch.utils.data import DataLoader\n",
        "from torchvision import datasets\n",
        "from torchvision import transforms\n",
        "import torchvision.models as models\n",
        "\n",
        "\n",
        "import numpy as np\n",
        "import pandas as pd\n",
        "import datetime\n",
        "import os, sys\n",
        "from hw_3.code.plotting import plot\n",
        "\n",
        "from matplotlib.pyplot import imshow, imsave"
      ],
      "execution_count": 7,
      "outputs": [
        {
          "output_type": "stream",
          "text": [
            "1.5.0+cu101\n"
          ],
          "name": "stdout"
        }
      ]
    },
    {
      "cell_type": "code",
      "metadata": {
        "id": "uOrw9FbL0zEl",
        "colab_type": "code",
        "outputId": "29e2ed2b-b15c-47c3-ed33-83bb2758cea2",
        "colab": {
          "base_uri": "https://localhost:8080/",
          "height": 34
        }
      },
      "source": [
        "DEVICE = torch.device('cuda' if torch.cuda.is_available() else 'cpu')\n",
        "print('Using device:', DEVICE)\n",
        "\n",
        "\n",
        "set=1\n",
        "\n",
        "NUM_CLASSES = 7 # 7  \n",
        "BATCH_SIZE = 256 # Higher batch sizes allows for larger learning rates changing the batch size, learning rate should change by the same factor \n",
        "LR = 1e-3           # The initial Learning Rate\n",
        "MOMENTUM = 0.9       # Hyperparameter for SGD, keep this at 0.9 when using SGD\n",
        "WEIGHT_DECAY = 5e-5  # Regularization, you can keep this at the default\n",
        "NUM_EPOCHS = 30   # Total number of training epochs (iterations over dataset)\n",
        "STEP_SIZE = 20      # How many epochs before decreasing learning rate (if using a step-down policy)\n",
        "GAMMA = 0.1          # Multiplicative factor for learning rate step-down\n",
        "LOG_FREQUENCY = 10\n",
        "alpha= 0.5"
      ],
      "execution_count": 8,
      "outputs": [
        {
          "output_type": "stream",
          "text": [
            "Using device: cuda\n"
          ],
          "name": "stdout"
        }
      ]
    },
    {
      "cell_type": "code",
      "metadata": {
        "id": "CPigIEwr1mWs",
        "colab_type": "code",
        "colab": {}
      },
      "source": [
        "# Define transforms for training phase\n",
        "source_transform = transforms.Compose([transforms.Resize(256),      # Resizes short size of the PIL image to 256\n",
        "                                      transforms.CenterCrop(224),  # Crops a central square patch of the image\n",
        "                                                                   # 224 because torchvision's AlexNet needs a 224x224 input!\n",
        "                                                                   # Remember this when applying different transformations, otherwise you get an error\n",
        "                                      transforms.ToTensor(),       # Turn PIL Image to torch.Tensor\n",
        "                                      transforms.Normalize((0.485, 0.456, 0.406), (0.229, 0.224, 0.225)) # Normalizes tensor with mean and standard deviation\n",
        "])\n",
        "# Define transforms for the evaluation phase   \n",
        "target_transform = transforms.Compose([transforms.Resize(256),\n",
        "                                      transforms.CenterCrop(224),\n",
        "                                      transforms.ToTensor(),\n",
        "                                      transforms.Normalize((0.485, 0.456, 0.406), (0.229, 0.224, 0.225))                                    \n",
        "])"
      ],
      "execution_count": 0,
      "outputs": []
    },
    {
      "cell_type": "code",
      "metadata": {
        "id": "V5B0RiND1qtP",
        "colab_type": "code",
        "outputId": "04546091-3df8-4da2-9166-1cfa2dd025fb",
        "colab": {
          "base_uri": "https://localhost:8080/",
          "height": 52
        }
      },
      "source": [
        "#Prepare Pytorch train/test Datasets\n",
        "photo_dir='hw_3/PACS/photo'\n",
        "art_dir='hw_3/PACS/art_painting'\n",
        "cartoon_dir='hw_3/PACS/cartoon'\n",
        "sketch_dir='hw_3/PACS/sketch'\n",
        "\n",
        "photo_dataset = ImageFolder(photo_dir,transform=source_transform)\n",
        "art_dataset = ImageFolder(art_dir,transform=target_transform)\n",
        "'''\n",
        "cartoon_dataset = ImageFolder(train_dir,transform=train_transform)\n",
        "sketch_dataset = ImageFolder(train_dir,transform=train_transform)\n",
        "'''\n",
        "\n",
        "source_dataset=photo_dataset\n",
        "target_dataset=art_dataset\n",
        "\n",
        "# Check dataset sizes\n",
        "print('Source Dataset: {}'.format(len(source_dataset)))\n",
        "print('Target Dataset: {}'.format(len(target_dataset)))"
      ],
      "execution_count": 10,
      "outputs": [
        {
          "output_type": "stream",
          "text": [
            "Source Dataset: 1670\n",
            "Target Dataset: 2048\n"
          ],
          "name": "stdout"
        }
      ]
    },
    {
      "cell_type": "code",
      "metadata": {
        "id": "RfaV6YhjIrPh",
        "colab_type": "code",
        "outputId": "7ce7519e-9d1c-494e-809d-0601246b3848",
        "colab": {
          "base_uri": "https://localhost:8080/",
          "height": 52
        }
      },
      "source": [
        "# Dataloaders iterate over pytorch datasets and transparently provide useful functions (e.g. parallelization and shuffling)\n",
        "source_dataloader = DataLoader(source_dataset, batch_size=BATCH_SIZE, shuffle=True, num_workers=4, drop_last=True)\n",
        "\n",
        "target_dataloader = DataLoader(target_dataset, batch_size=BATCH_SIZE, shuffle=False, num_workers=4)\n",
        "\n",
        "target_class_dataloader= target_dataloader\n",
        "\n",
        "iterations=max(len(target_dataloader),len(source_dataloader))\n",
        "print(f'Iterations: {iterations}')\n",
        "\n",
        "print(type(source_dataloader))\n",
        "\n"
      ],
      "execution_count": 11,
      "outputs": [
        {
          "output_type": "stream",
          "text": [
            "Iterations: 8\n",
            "<class 'torch.utils.data.dataloader.DataLoader'>\n"
          ],
          "name": "stdout"
        }
      ]
    },
    {
      "cell_type": "markdown",
      "metadata": {
        "id": "U17F4nmILtLg",
        "colab_type": "text"
      },
      "source": [
        "ALEXNET"
      ]
    },
    {
      "cell_type": "code",
      "metadata": {
        "id": "Fex4tuMXLmXn",
        "colab_type": "code",
        "colab": {
          "base_uri": "https://localhost:8080/",
          "height": 84,
          "referenced_widgets": [
            "026ed818fe754255b5d706d72cffcb60",
            "3e2e9908673344fe803c08ab5999dcbc",
            "63c4366a77314dccb5ce95ef6131d806",
            "16c7f9156a1b46f7a573f5c79c2b2f84",
            "185e493b93c34aaf809e59c1c5c155e6",
            "e54dafc8b27143bcb036e4448ffd3cc3",
            "a110eadc478644bf83960b4799d86b22",
            "6b43260ca9ab40c392250debabff7ac8"
          ]
        },
        "outputId": "acab739f-2958-4439-8229-989613187f19"
      },
      "source": [
        "net=models.alexnet(pretrained=True)\n",
        "\n",
        "net.classifier[6]=nn.Linear(4096,NUM_CLASSES) \n",
        "\n",
        "# Define loss function\n",
        "criterion = nn.CrossEntropyLoss() # for classification, we use Cross Entropy\n",
        "\n",
        "# Choose parameters to optimize\n",
        "# To access a different set of parameters, you have to access submodules of AlexNet\n",
        "# (nn.Module objects, like AlexNet, implement the Composite Pattern)\n",
        "# e.g.: parameters of the fully connected layers: net.classifier.parameters()\n",
        "# e.g.: parameters of the convolutional layers: look at alexnet's source code ;) \n",
        "parameters_to_optimize = net.parameters() # In this case we optimize over all the parameters of AlexNet\n",
        "\n",
        "# Define optimizer\n",
        "# An optimizer updates the weights based on loss\n",
        "# We use SGD with momentum\n",
        "optimizer = optim.SGD(parameters_to_optimize, lr=LR, momentum=MOMENTUM, weight_decay=WEIGHT_DECAY,nesterov=True)\n",
        "\n",
        "# Define scheduler\n",
        "# A scheduler dynamically changes learning rate\n",
        "# The most common schedule is the step(-down), which multiplies learning rate by gamma every STEP_SIZE epochs\n",
        "scheduler = optim.lr_scheduler.StepLR(optimizer, step_size=STEP_SIZE, gamma=GAMMA)\n"
      ],
      "execution_count": 12,
      "outputs": [
        {
          "output_type": "stream",
          "text": [
            "Downloading: \"https://download.pytorch.org/models/alexnet-owt-4df8aa71.pth\" to /root/.cache/torch/checkpoints/alexnet-owt-4df8aa71.pth\n"
          ],
          "name": "stderr"
        },
        {
          "output_type": "display_data",
          "data": {
            "application/vnd.jupyter.widget-view+json": {
              "model_id": "026ed818fe754255b5d706d72cffcb60",
              "version_minor": 0,
              "version_major": 2
            },
            "text/plain": [
              "HBox(children=(FloatProgress(value=0.0, max=244418560.0), HTML(value='')))"
            ]
          },
          "metadata": {
            "tags": []
          }
        },
        {
          "output_type": "stream",
          "text": [
            "\n"
          ],
          "name": "stdout"
        }
      ]
    },
    {
      "cell_type": "code",
      "metadata": {
        "id": "d7040NKZL-jG",
        "colab_type": "code",
        "colab": {
          "base_uri": "https://localhost:8080/",
          "height": 1000
        },
        "outputId": "0ff59511-4194-4e31-b9b4-13d46acd57d6"
      },
      "source": [
        "net = net.to(DEVICE) # this will bring the network to GPU if DEVICE is cuda\n",
        "\n",
        "cudnn.benchmark # Calling this optimizes runtime\n",
        "\n",
        "current_step = 0\n",
        "\n",
        "acc_train_list=[]\n",
        "acc_test_list=[]\n",
        "loss_train_list=[]\n",
        "loss_test_list=[]\n",
        "\n",
        "# Start iterating over the epochs\n",
        "for epoch in range(NUM_EPOCHS):\n",
        "  print('Starting epoch {}/{}, LR = {}'.format(epoch+1, NUM_EPOCHS, scheduler.get_lr()))\n",
        "  src_running_loss=0\n",
        "  src_running_corrects=0\n",
        "  src_cnt=0\n",
        "  for images,labels in source_dataloader:\n",
        "    # Bring data over the device of choice\n",
        "    images = images.to(DEVICE)\n",
        "    labels = labels.to(DEVICE)\n",
        "    net.train()\n",
        "\n",
        "    optimizer.zero_grad()\n",
        "\n",
        "    outputs = net(images)\n",
        "    _, preds = torch.max(outputs.data, 1)\n",
        "    # Compute loss based on output and ground truth\n",
        "    loss = criterion(outputs,labels)\n",
        "    src_running_loss += loss\n",
        "\n",
        "    # Compute gradients for each layer and update weights\n",
        "    loss.backward()  # backward pass: computes gradients\n",
        "\n",
        "    optimizer.step() # update weights based on accumulated gradients\n",
        "\n",
        "    current_step += 1\n",
        "    src_cnt+=1\n",
        "  src_running_corrects += torch.sum(preds == labels.data).data.item()\n",
        "  src_accuracy = src_running_corrects / float(len(source_dataloader)*BATCH_SIZE) \n",
        "  acc_train_list.append(src_accuracy)\n",
        "  net.train(False)\n",
        "\n",
        "  avg_loss=src_running_loss/src_cnt\n",
        "  avg_loss=avg_loss.data.cpu().numpy()\n",
        "  print(f'Epoch {epoch+1} src_acc:{src_accuracy} src_loss: {avg_loss}')\n",
        "  loss_train_list.append(avg_loss)\n",
        "  # Step the scheduler\n",
        "  scheduler.step() \n",
        "\n",
        "\n",
        "\n",
        "\n"
      ],
      "execution_count": 13,
      "outputs": [
        {
          "output_type": "stream",
          "text": [
            "Starting epoch 1/30, LR = [0.001]\n"
          ],
          "name": "stdout"
        },
        {
          "output_type": "stream",
          "text": [
            "/usr/local/lib/python3.6/dist-packages/torch/optim/lr_scheduler.py:351: UserWarning: To get the last learning rate computed by the scheduler, please use `get_last_lr()`.\n",
            "  \"please use `get_last_lr()`.\", UserWarning)\n"
          ],
          "name": "stderr"
        },
        {
          "output_type": "stream",
          "text": [
            "Epoch 1 src_acc:0.13671875 src_loss: 1.261077880859375\n",
            "Starting epoch 2/30, LR = [0.001]\n",
            "Epoch 2 src_acc:0.15494791666666666 src_loss: 0.39507290720939636\n",
            "Starting epoch 3/30, LR = [0.001]\n",
            "Epoch 3 src_acc:0.15494791666666666 src_loss: 0.20042549073696136\n",
            "Starting epoch 4/30, LR = [0.001]\n",
            "Epoch 4 src_acc:0.16015625 src_loss: 0.13447056710720062\n",
            "Starting epoch 5/30, LR = [0.001]\n",
            "Epoch 5 src_acc:0.16015625 src_loss: 0.1085219606757164\n",
            "Starting epoch 6/30, LR = [0.001]\n",
            "Epoch 6 src_acc:0.16471354166666666 src_loss: 0.08400750160217285\n",
            "Starting epoch 7/30, LR = [0.001]\n",
            "Epoch 7 src_acc:0.16276041666666666 src_loss: 0.07129716128110886\n",
            "Starting epoch 8/30, LR = [0.001]\n",
            "Epoch 8 src_acc:0.16536458333333334 src_loss: 0.061789363622665405\n",
            "Starting epoch 9/30, LR = [0.001]\n",
            "Epoch 9 src_acc:0.16471354166666666 src_loss: 0.05361378937959671\n",
            "Starting epoch 10/30, LR = [0.001]\n",
            "Epoch 10 src_acc:0.1640625 src_loss: 0.04962076246738434\n",
            "Starting epoch 11/30, LR = [0.001]\n",
            "Epoch 11 src_acc:0.1640625 src_loss: 0.04639343172311783\n",
            "Starting epoch 12/30, LR = [0.001]\n",
            "Epoch 12 src_acc:0.166015625 src_loss: 0.04172674939036369\n",
            "Starting epoch 13/30, LR = [0.001]\n",
            "Epoch 13 src_acc:0.1640625 src_loss: 0.03798436373472214\n",
            "Starting epoch 14/30, LR = [0.001]\n",
            "Epoch 14 src_acc:0.166015625 src_loss: 0.03019210323691368\n",
            "Starting epoch 15/30, LR = [0.001]\n",
            "Epoch 15 src_acc:0.166015625 src_loss: 0.026242589578032494\n",
            "Starting epoch 16/30, LR = [0.001]\n",
            "Epoch 16 src_acc:0.166015625 src_loss: 0.02161223255097866\n",
            "Starting epoch 17/30, LR = [0.001]\n",
            "Epoch 17 src_acc:0.16666666666666666 src_loss: 0.020780082792043686\n",
            "Starting epoch 18/30, LR = [0.001]\n",
            "Epoch 18 src_acc:0.16536458333333334 src_loss: 0.02468618005514145\n",
            "Starting epoch 19/30, LR = [0.001]\n",
            "Epoch 19 src_acc:0.16536458333333334 src_loss: 0.020118167623877525\n",
            "Starting epoch 20/30, LR = [0.001]\n",
            "Epoch 20 src_acc:0.16666666666666666 src_loss: 0.019690601155161858\n",
            "Starting epoch 21/30, LR = [1e-05]\n",
            "Epoch 21 src_acc:0.16666666666666666 src_loss: 0.01637175679206848\n",
            "Starting epoch 22/30, LR = [0.0001]\n",
            "Epoch 22 src_acc:0.16666666666666666 src_loss: 0.018652282655239105\n",
            "Starting epoch 23/30, LR = [0.0001]\n",
            "Epoch 23 src_acc:0.16536458333333334 src_loss: 0.017218247056007385\n",
            "Starting epoch 24/30, LR = [0.0001]\n",
            "Epoch 24 src_acc:0.16536458333333334 src_loss: 0.019010629504919052\n",
            "Starting epoch 25/30, LR = [0.0001]\n",
            "Epoch 25 src_acc:0.16666666666666666 src_loss: 0.015271991491317749\n",
            "Starting epoch 26/30, LR = [0.0001]\n",
            "Epoch 26 src_acc:0.16666666666666666 src_loss: 0.01692470908164978\n",
            "Starting epoch 27/30, LR = [0.0001]\n",
            "Epoch 27 src_acc:0.16666666666666666 src_loss: 0.015108305960893631\n",
            "Starting epoch 28/30, LR = [0.0001]\n",
            "Epoch 28 src_acc:0.166015625 src_loss: 0.01913803443312645\n",
            "Starting epoch 29/30, LR = [0.0001]\n",
            "Epoch 29 src_acc:0.16666666666666666 src_loss: 0.017037050798535347\n",
            "Starting epoch 30/30, LR = [0.0001]\n",
            "Epoch 30 src_acc:0.166015625 src_loss: 0.0173470638692379\n"
          ],
          "name": "stdout"
        }
      ]
    },
    {
      "cell_type": "code",
      "metadata": {
        "id": "LaMIHNpVMMtL",
        "colab_type": "code",
        "colab": {}
      },
      "source": [
        "trg_running_corrects=0\n",
        "trg_running_loss=0\n",
        "for images,labels in target_dataloader:\n",
        "  with torch.no_grad(): \n",
        "    images=images.to(DEVICE)\n",
        "    labels=labels.to(DEVICE)\n",
        "\n",
        "    outputs = net(images)\n",
        "    # Get predictions\n",
        "    _, preds = torch.max(outputs.data, 1)\n",
        "    trg_running_corrects += torch.sum(preds == labels.data).data.item()\n",
        "    loss = criterion(outputs,labels)\n",
        "    trg_running_loss += loss\n",
        "\n",
        "  trg_accuracy = trg_running_corrects / float(len(target_dataset))\n",
        "  trg_loss=trg_running_loss/float(len(target_dataloader))\n",
        "  trg_loss=trg_loss.data.cpu().numpy()\n",
        "\n",
        "loss_test_list = np.full((NUM_EPOCHS),trg_loss,)\n",
        "acc_test_list = np.full((NUM_EPOCHS),trg_accuracy)"
      ],
      "execution_count": 0,
      "outputs": []
    },
    {
      "cell_type": "code",
      "metadata": {
        "id": "7el9AHOBMJD_",
        "colab_type": "code",
        "colab": {}
      },
      "source": [
        "#plot(loss_train_list,loss_test_list,'Loss','loss_source','loss_target','Loss vs Epochs',f'alex_loss_train_pre',set)\n",
        "#plot(acc_train_list,acc_test_list,'Accuracy','accuracy_source','accuracy_target','Accuracy vs Epochs',f'alex_acc_train_pre',set)\n",
        "cwd=os.getcwd()\n",
        "os.chdir('results')\n",
        "results={'acc_train':acc_train_list,'loss_train':loss_train_list,'acc_val':acc_test_list,'loss_val':loss_test_list}\n",
        "results_df=pd.DataFrame(results)\n",
        "results_df.to_csv(f'alex_results_{set}.csv',index=False)\n",
        "os.chdir(cwd)"
      ],
      "execution_count": 0,
      "outputs": []
    },
    {
      "cell_type": "markdown",
      "metadata": {
        "id": "eJYwyojQL_N9",
        "colab_type": "text"
      },
      "source": [
        "DANN_ALEXNET\n"
      ]
    },
    {
      "cell_type": "code",
      "metadata": {
        "id": "_9K8YAttJIMS",
        "colab_type": "code",
        "colab": {}
      },
      "source": [
        "net=alexnet(pretrained=True)\n",
        "\n",
        "net.classifier[6]=nn.Linear(4096,NUM_CLASSES) \n",
        "net.classifier_domain[6]=nn.Linear(4096,2)\n",
        "\n",
        "##COPY WEIGHTS OF OTHER LAYERS\n",
        "net.classifier_domain[1].weight.data=net.classifier[1].weight.data\n",
        "net.classifier_domain[1].bias.data=net.classifier[1].bias.data\n",
        "net.classifier_domain[4].weight.data=net.classifier[4].weight.data\n",
        "net.classifier_domain[4].bias.data=net.classifier[4].bias.data\n"
      ],
      "execution_count": 0,
      "outputs": []
    },
    {
      "cell_type": "code",
      "metadata": {
        "id": "4fy8waTKI1Mh",
        "colab_type": "code",
        "colab": {}
      },
      "source": [
        "# Define loss function\n",
        "criterion = nn.CrossEntropyLoss() # for classification, we use Cross Entropy\n",
        "\n",
        "# Choose parameters to optimize\n",
        "# To access a different set of parameters, you have to access submodules of AlexNet\n",
        "# (nn.Module objects, like AlexNet, implement the Composite Pattern)\n",
        "# e.g.: parameters of the fully connected layers: net.classifier.parameters()\n",
        "# e.g.: parameters of the convolutional layers: look at alexnet's source code ;) \n",
        "parameters_to_optimize = net.parameters() # In this case we optimize over all the parameters of AlexNet\n",
        "# Define optimizer\n",
        "# An optimizer updates the weights based on loss\n",
        "# We use SGD with momentum\n",
        "optimizer = optim.SGD(parameters_to_optimize, lr=LR, momentum=MOMENTUM, weight_decay=WEIGHT_DECAY,nesterov=True)\n",
        "\n",
        "# Define scheduler\n",
        "# A scheduler dynamically changes learning rate\n",
        "# The most common schedule is the step(-down), which multiplies learning rate by gamma every STEP_SIZE epochs\n",
        "scheduler = optim.lr_scheduler.StepLR(optimizer, step_size=STEP_SIZE, gamma=GAMMA)\n",
        "#cudnn.benchmark # Calling this optimizes runtime"
      ],
      "execution_count": 0,
      "outputs": []
    },
    {
      "cell_type": "code",
      "metadata": {
        "id": "5iyOkRj3I8gY",
        "colab_type": "code",
        "outputId": "5ce41f83-fbc5-4cba-fb1a-adc1cff60177",
        "colab": {
          "base_uri": "https://localhost:8080/",
          "height": 573
        }
      },
      "source": [
        "#TRAIN\n",
        "# By default, everything is loaded to cpu\n",
        "net = net.to(DEVICE) # this will bring the network to GPU if DEVICE is cuda\n",
        "\n",
        "\n",
        "\n",
        "current_step = 0\n",
        "\n",
        "class_acc_list=[]\n",
        "class_loss_list=[]\n",
        "acc_target_list=[]\n",
        "domain_loss_list=[]\n",
        "domain_acc_list=[]\n",
        "\n",
        "trg_domain_acc_list=[]\n",
        "src_domain_acc_list=[]\n",
        "\n",
        "\n",
        "# Start iterating over the epochs\n",
        "for epoch in range(NUM_EPOCHS):\n",
        "  print('Starting epoch {}/{}, LR = {}'.format(epoch+1, NUM_EPOCHS, scheduler.get_lr()))\n",
        "  src_dataloader_iterator = iter(source_dataloader)\n",
        "  trg_dataloader_iterator = iter(target_dataloader)\n",
        "  running_loss=0\n",
        "  class_running_corrects=0\n",
        "  domain_corrects=0\n",
        "  trg_domain_running_corrects=0\n",
        "  src_domain_running_corrects=0\n",
        "  trg_class_running_corrects=0\n",
        "\n",
        "  for i in range(iterations):\n",
        "    try:\n",
        "      images , labels = next(src_dataloader_iterator)\n",
        "      # Bring data over the device of choice\n",
        "      images = images.to(DEVICE)\n",
        "      labels = labels.to(DEVICE)\n",
        "\n",
        "      net.train()\n",
        "\n",
        "      optimizer.zero_grad()\n",
        "\n",
        "      class_outputs = net(images)\n",
        "      # Compute loss based on output and ground truth\n",
        "      class_loss = criterion(class_outputs,labels)\n",
        "\n",
        "      _ , class_preds = torch.max(class_outputs.data, 1)\n",
        "\n",
        "      class_running_corrects += torch.sum(class_preds == labels.data).data.item()\n",
        "      \n",
        "      src_domain_outputs = net(images, alpha)\n",
        "\n",
        "      src_domain_labels=torch.zeros(BATCH_SIZE, dtype=torch.long).to(DEVICE)\n",
        "      \n",
        "      _, src_domain_preds = torch.max(src_domain_outputs.data,1)\n",
        "      \n",
        "      src_domain_running_corrects += torch.sum(src_domain_preds == src_domain_labels.data).data.item()\n",
        "    \n",
        "      # Compute loss based on output and ground truth\n",
        "      src_domain_loss=criterion(src_domain_outputs,src_domain_labels)\n",
        "\n",
        "      ##TRAIN DOMAIN ON VALIDATION\n",
        "      \n",
        "      images, labels = next(trg_dataloader_iterator)\n",
        "\n",
        "      images=images.to(DEVICE)\n",
        "\n",
        "      labels=labels.to(DEVICE)\n",
        "\n",
        "      trg_domain_outputs=net(images,alpha)\n",
        "      \n",
        "      trg_domain_labels=torch.ones(BATCH_SIZE, dtype=torch.long).to(DEVICE)\n",
        "\n",
        "      _, trg_domain_preds=torch.max(trg_domain_outputs.data,1)\n",
        "\n",
        "      trg_domain_running_corrects += torch.sum(trg_domain_preds == trg_domain_labels.data).data.item()\n",
        "      # Compute loss based on output and ground truth\n",
        "      trg_domain_loss=criterion(trg_domain_outputs,trg_domain_labels)\n",
        "\n",
        "      loss = class_loss + src_domain_loss + trg_domain_loss\n",
        "      running_loss += loss\n",
        "\n",
        "      loss = class_loss + src_domain_loss + trg_domain_loss\n",
        "      running_loss += loss\n",
        "\n",
        "      # Compute gradients for each layer and update weights\n",
        "      loss.backward()  # backward pass: computes gradients\n",
        "\n",
        "    except StopIteration:\n",
        "      src_dataloader_iterator = iter(source_dataloader)\n",
        "      images , labels = next(src_dataloader_iterator)\n",
        "      # Bring data over the device of choice\n",
        "      images = images.to(DEVICE)\n",
        "      labels = labels.to(DEVICE)\n",
        "\n",
        "      optimizer.zero_grad()\n",
        "\n",
        "      class_outputs = net(images)\n",
        "      # Compute loss based on output and ground truth\n",
        "      class_loss = criterion(class_outputs,labels)\n",
        "\n",
        "      _ , class_preds = torch.max(class_outputs.data, 1)\n",
        "\n",
        "      class_running_corrects += torch.sum(class_preds == labels.data).data.item()\n",
        "      \n",
        "      src_domain_outputs = net(images, alpha)\n",
        "\n",
        "      src_domain_labels=torch.zeros(BATCH_SIZE, dtype=torch.long).to(DEVICE)\n",
        "      \n",
        "      _, src_domain_preds = torch.max(src_domain_outputs.data,1)\n",
        "      \n",
        "      src_domain_running_corrects += torch.sum(src_domain_preds == src_domain_labels.data).data.item()\n",
        "    \n",
        "      # Compute loss based on output and ground truth\n",
        "      src_domain_loss=criterion(src_domain_outputs,src_domain_labels)\n",
        "\n",
        "      images, labels = next(trg_dataloader_iterator)\n",
        "\n",
        "      images=images.to(DEVICE)\n",
        "      \n",
        "      labels=labels.to(DEVICE)\n",
        "\n",
        "      trg_domain_outputs = net(images,alpha)\n",
        "      \n",
        "      trg_domain_labels=torch.ones(BATCH_SIZE, dtype=torch.long).to(DEVICE)\n",
        "\n",
        "      _, trg_domain_preds=torch.max(trg_domain_outputs.data,1)\n",
        "\n",
        "      trg_domain_running_corrects += torch.sum(trg_domain_preds == trg_domain_labels.data).data.item()\n",
        "      # Compute loss based on output and ground truth\n",
        "      trg_domain_loss=criterion(trg_domain_outputs,trg_domain_labels)\n",
        "\n",
        "      loss = class_loss + src_domain_loss + trg_domain_loss\n",
        "      running_loss += loss\n",
        "      # Compute gradients for each layer and update weights\n",
        "      loss.backward()  # backward pass: computes gradients\n",
        "    \n",
        "    optimizer.step() # update weights based on accumulated gradients\n",
        "\n",
        "    current_step += 1\n",
        "\n",
        "  class_avg_loss = (class_loss / iterations).data.item()\n",
        "  class_loss_list.append(class_avg_loss)\n",
        "  domain_avg_loss = (src_domain_loss + trg_domain_loss) / iterations\n",
        "  domain_loss_list.append(domain_avg_loss.data.item())\n",
        "  src_domain_accuracy = src_domain_running_corrects / float(iterations * BATCH_SIZE)\n",
        "  trg_domain_accuracy = trg_domain_running_corrects / float((len(target_dataset)))\n",
        "  trg_domain_acc_list.append(trg_domain_accuracy)\n",
        "  src_domain_acc_list.append(src_domain_accuracy)\n",
        "  domain_corrects = src_domain_running_corrects + trg_domain_running_corrects\n",
        "  domain_accuracy = domain_corrects / float(len(target_dataset) + (iterations * BATCH_SIZE))\n",
        "  domain_acc_list.append(domain_accuracy)\n",
        "  class_accuracy = class_running_corrects / float(iterations * BATCH_SIZE)\n",
        "  class_acc_list.append(class_accuracy)\n",
        "  #print(f'Epoch {epoch+1} class_loss: {class_avg_loss}')\n",
        "  \n",
        "  # Step the scheduler\n",
        "  scheduler.step() "
      ],
      "execution_count": 18,
      "outputs": [
        {
          "output_type": "stream",
          "text": [
            "Starting epoch 1/30, LR = [0.001]\n"
          ],
          "name": "stdout"
        },
        {
          "output_type": "stream",
          "text": [
            "/usr/local/lib/python3.6/dist-packages/torch/optim/lr_scheduler.py:351: UserWarning: To get the last learning rate computed by the scheduler, please use `get_last_lr()`.\n",
            "  \"please use `get_last_lr()`.\", UserWarning)\n"
          ],
          "name": "stderr"
        },
        {
          "output_type": "stream",
          "text": [
            "Starting epoch 2/30, LR = [0.001]\n",
            "Starting epoch 3/30, LR = [0.001]\n",
            "Starting epoch 4/30, LR = [0.001]\n",
            "Starting epoch 5/30, LR = [0.001]\n",
            "Starting epoch 6/30, LR = [0.001]\n",
            "Starting epoch 7/30, LR = [0.001]\n",
            "Starting epoch 8/30, LR = [0.001]\n",
            "Starting epoch 9/30, LR = [0.001]\n",
            "Starting epoch 10/30, LR = [0.001]\n",
            "Starting epoch 11/30, LR = [0.001]\n",
            "Starting epoch 12/30, LR = [0.001]\n",
            "Starting epoch 13/30, LR = [0.001]\n",
            "Starting epoch 14/30, LR = [0.001]\n",
            "Starting epoch 15/30, LR = [0.001]\n",
            "Starting epoch 16/30, LR = [0.001]\n",
            "Starting epoch 17/30, LR = [0.001]\n",
            "Starting epoch 18/30, LR = [0.001]\n",
            "Starting epoch 19/30, LR = [0.001]\n",
            "Starting epoch 20/30, LR = [0.001]\n",
            "Starting epoch 21/30, LR = [1e-05]\n",
            "Starting epoch 22/30, LR = [0.0001]\n",
            "Starting epoch 23/30, LR = [0.0001]\n",
            "Starting epoch 24/30, LR = [0.0001]\n",
            "Starting epoch 25/30, LR = [0.0001]\n",
            "Starting epoch 26/30, LR = [0.0001]\n",
            "Starting epoch 27/30, LR = [0.0001]\n",
            "Starting epoch 28/30, LR = [0.0001]\n",
            "Starting epoch 29/30, LR = [0.0001]\n",
            "Starting epoch 30/30, LR = [0.0001]\n"
          ],
          "name": "stdout"
        }
      ]
    },
    {
      "cell_type": "code",
      "metadata": {
        "id": "2Vexq8i3Kcap",
        "colab_type": "code",
        "colab": {}
      },
      "source": [
        "##TEST##\n",
        "trg_running_corrects=0\n",
        "trg_running_loss=0\n",
        "for images,labels in target_dataloader:\n",
        "  with torch.no_grad(): \n",
        "    images=images.to(DEVICE)\n",
        "    labels=labels.to(DEVICE)\n",
        "\n",
        "    outputs = net(images)\n",
        "    # Get predictions\n",
        "    _, preds = torch.max(outputs.data, 1)\n",
        "    trg_running_corrects += torch.sum(preds == labels.data).data.item()\n",
        "    loss = criterion(outputs,labels)\n",
        "    trg_running_loss += loss\n",
        "\n",
        "trg_accuracy = trg_running_corrects / float(len(target_dataset))\n",
        "trg_loss=trg_running_loss/float(len(target_dataloader))\n",
        "trg_loss=trg_loss.data.cpu().numpy()\n",
        "\n",
        "trg_class_acc_list=np.full((NUM_EPOCHS),trg_accuracy)\n",
        "trg_class_loss_list=np.full((NUM_EPOCHS),trg_loss)"
      ],
      "execution_count": 0,
      "outputs": []
    },
    {
      "cell_type": "code",
      "metadata": {
        "id": "wvxElXOKKfRH",
        "colab_type": "code",
        "colab": {}
      },
      "source": [
        "cwd=os.getcwd()\n",
        "os.chdir('/results')\n",
        "\n",
        "results={'domain_acc':domain_acc_list,'domain_loss':domain_loss_list,'class_acc_source':class_acc_list,'class_loss_source':class_loss_list,'class_acc_target':trg_class_acc_list,'class_loss_target':trg_class_loss_list}\n",
        "#print(len(acc_class_target_list),len(domain_acc_list),len(domain_loss_list),len(class_loss_list),len(trg_class_accuracy_list))\n",
        "results_df=pd.DataFrame(results)\n",
        "results_df.to_csv(f'dannsss_results_{set}.csv',index=False)\n",
        "os.chdir(cwd)\n"
      ],
      "execution_count": 0,
      "outputs": []
    }
  ]
}